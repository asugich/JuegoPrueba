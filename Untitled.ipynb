{
 "cells": [
  {
   "cell_type": "code",
   "execution_count": 9,
   "id": "ceaba272",
   "metadata": {},
   "outputs": [],
   "source": [
    "import random"
   ]
  },
  {
   "cell_type": "code",
   "execution_count": 51,
   "id": "1491f13b",
   "metadata": {},
   "outputs": [],
   "source": [
    "numeros = [1,2,3,4,5,6,7,8,9,10,11,12,13]\n",
    "figuras = ['trebol','pica','corazon','diamante']"
   ]
  },
  {
   "cell_type": "code",
   "execution_count": 77,
   "id": "36b6374d",
   "metadata": {},
   "outputs": [
    {
     "name": "stdout",
     "output_type": "stream",
     "text": [
      "{1: ['trebol', 'pica', 'corazon'], 2: ['trebol', 'pica', 'corazon'], 3: ['trebol', 'pica', 'corazon'], 4: ['trebol', 'pica', 'corazon'], 5: ['trebol', 'pica', 'corazon'], 6: ['trebol', 'pica', 'corazon'], 7: ['trebol', 'pica', 'corazon'], 8: ['trebol', 'pica', 'corazon'], 9: ['trebol', 'pica', 'corazon'], 10: ['trebol', 'pica', 'corazon'], 11: ['trebol', 'pica', 'corazon'], 12: ['trebol', 'pica', 'corazon'], 13: ['trebol', 'pica', 'corazon']}\n"
     ]
    }
   ],
   "source": [
    "for i in range(len(numeros)):\n",
    "    for k in figuras:\n",
    "        mazo[numeros[i]] = figuras[0:]\n",
    "        \n",
    "print(mazo)"
   ]
  },
  {
   "cell_type": "code",
   "execution_count": null,
   "id": "c419c46b",
   "metadata": {},
   "outputs": [],
   "source": []
  },
  {
   "cell_type": "code",
   "execution_count": null,
   "id": "4f962574",
   "metadata": {},
   "outputs": [],
   "source": []
  }
 ],
 "metadata": {
  "kernelspec": {
   "display_name": "Python 3 (ipykernel)",
   "language": "python",
   "name": "python3"
  },
  "language_info": {
   "codemirror_mode": {
    "name": "ipython",
    "version": 3
   },
   "file_extension": ".py",
   "mimetype": "text/x-python",
   "name": "python",
   "nbconvert_exporter": "python",
   "pygments_lexer": "ipython3",
   "version": "3.9.12"
  }
 },
 "nbformat": 4,
 "nbformat_minor": 5
}
