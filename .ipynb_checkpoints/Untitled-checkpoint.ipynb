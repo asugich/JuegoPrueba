{
 "cells": [
  {
   "cell_type": "code",
   "execution_count": 9,
   "id": "bfd1bc7e",
   "metadata": {},
   "outputs": [],
   "source": [
    "import random"
   ]
  },
  {
   "cell_type": "code",
   "execution_count": 30,
   "id": "d6103663",
   "metadata": {},
   "outputs": [],
   "source": [
    "numeros = [1,2,3,4,5,6,7,8,9,10,11,12,13]\n",
    "figuras = [\"trebol\",\"pica\",\"corazon\",\"diamante\"]"
   ]
  },
  {
   "cell_type": "code",
   "execution_count": 41,
   "id": "db88827a",
   "metadata": {},
   "outputs": [
    {
     "name": "stdout",
     "output_type": "stream",
     "text": [
      "{1: 'trebol', 2: 'pica', 3: 'corazon', 4: 'diamante'}\n"
     ]
    }
   ],
   "source": [
    "for i in numeros:\n",
    "    for e in figuras:\n",
    "        mazo = dict(zip(numeros, figuras))\n",
    "        \n",
    "print(mazo)"
   ]
  },
  {
   "cell_type": "code",
   "execution_count": null,
   "id": "3d0813f6",
   "metadata": {},
   "outputs": [],
   "source": []
  }
 ],
 "metadata": {
  "kernelspec": {
   "display_name": "Python 3 (ipykernel)",
   "language": "python",
   "name": "python3"
  },
  "language_info": {
   "codemirror_mode": {
    "name": "ipython",
    "version": 3
   },
   "file_extension": ".py",
   "mimetype": "text/x-python",
   "name": "python",
   "nbconvert_exporter": "python",
   "pygments_lexer": "ipython3",
   "version": "3.9.12"
  }
 },
 "nbformat": 4,
 "nbformat_minor": 5
}
