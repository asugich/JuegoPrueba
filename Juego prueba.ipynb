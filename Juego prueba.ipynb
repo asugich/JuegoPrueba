{
 "cells": [
  {
   "cell_type": "code",
   "execution_count": 9,
   "id": "e48b849b",
   "metadata": {},
   "outputs": [],
   "source": [
    "import random"
   ]
  },
  {
   "cell_type": "code",
   "execution_count": 51,
   "id": "3dfc0ce4",
   "metadata": {},
   "outputs": [],
   "source": [
    "numeros = [1,2,3,4,5,6,7,8,9,10,11,12,13]\n",
    "figuras = ['trebol','pica','corazon','diamante']"
   ]
  },
  {
   "cell_type": "code",
   "execution_count": 84,
   "id": "f44c0390",
   "metadata": {},
   "outputs": [
    {
     "name": "stdout",
     "output_type": "stream",
     "text": [
      "{1: 'diamante', 2: 'diamante', 3: 'diamante', 4: 'diamante', 5: 'diamante', 6: 'diamante', 7: 'diamante', 8: 'diamante', 9: 'diamante', 10: 'diamante', 11: 'diamante', 12: 'diamante', 13: 'diamante'}\n"
     ]
    }
   ],
   "source": [
    "for i in range(len(numeros)):\n",
    "    for k in range(len(figuras)):\n",
    "        mazo[numeros[i]] = figuras[k]\n",
    "        \n",
    "print(mazo)"
   ]
  },
  {
   "cell_type": "code",
   "execution_count": null,
   "id": "8ef722b0",
   "metadata": {},
   "outputs": [],
   "source": []
  },
  {
   "cell_type": "code",
   "execution_count": null,
   "id": "5e057c37",
   "metadata": {},
   "outputs": [],
   "source": []
  }
 ],
 "metadata": {
  "kernelspec": {
   "display_name": "Python 3 (ipykernel)",
   "language": "python",
   "name": "python3"
  },
  "language_info": {
   "codemirror_mode": {
    "name": "ipython",
    "version": 3
   },
   "file_extension": ".py",
   "mimetype": "text/x-python",
   "name": "python",
   "nbconvert_exporter": "python",
   "pygments_lexer": "ipython3",
   "version": "3.9.12"
  }
 },
 "nbformat": 4,
 "nbformat_minor": 5
}
